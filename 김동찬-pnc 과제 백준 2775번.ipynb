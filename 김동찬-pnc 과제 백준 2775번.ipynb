{
 "cells": [
  {
   "cell_type": "code",
   "execution_count": null,
   "metadata": {},
   "outputs": [],
   "source": [
    "T=int(input())#반복할 수 입력\n",
    "f0=[]\n",
    "A=[]\n",
    "for a in range(T):\n",
    "    k=int(input())#층입력\n",
    "    n=int(input())#호수 입력\n",
    "    for i in range(1,n+1):\n",
    "        f0.append(i) #0층의 사람 수 입력\n",
    "    for x in range(k):\n",
    "        for y in range(1,n):\n",
    "            f0[y]+=f0[y-1] #f0[y]=f0[y]+f0[y-1]\n",
    "    A.append(f0[-1])\n",
    "    f0.clear()\n",
    "for i in range(T):\n",
    "    print(A[i])"
   ]
  }
 ],
 "metadata": {
  "language_info": {
   "name": "python"
  }
 },
 "nbformat": 4,
 "nbformat_minor": 2
}
